{
 "cells": [
  {
   "cell_type": "markdown",
   "metadata": {
    "colab_type": "text",
    "id": "pa5_r2M_ZzLG"
   },
   "source": [
    "# Notebooks\n",
    "\n",
    "In this lesson we'll learn how to work with **notebooks**. Notebooks enable interactive and visual computing which makes it a great learning tool. We'll use notebooks to code in Python and learn the basics of machine learning."
   ]
  },
  {
   "cell_type": "markdown",
   "metadata": {
    "colab_type": "text",
    "id": "orR8HhgnPY1U"
   },
   "source": [
    "<div align=\"left\">\n",
    "<a href=\"https://github.com/madewithml/basics/blob/master/notebooks/01_Notebooks.ipynb\" role=\"button\"><img class=\"notebook-badge-image\" src=\"https://img.shields.io/static/v1?label=&amp;message=View%20On%20GitHub&amp;color=586069&amp;logo=github&amp;labelColor=2f363d\"></a>&nbsp;\n",
    "<a href=\"https://colab.research.google.com/github/madewithml/basics/blob/master/notebooks/01_Notebooks.ipynb\"><img class=\"notebook-badge-image\" src=\"https://colab.research.google.com/assets/colab-badge.svg\" alt=\"Open In Colab\"></a>\n",
    "</div>"
   ]
  },
  {
   "cell_type": "markdown",
   "metadata": {
    "colab_type": "text",
    "id": "-Nsq7J22UOGO"
   },
   "source": [
    "# Set Up"
   ]
  },
  {
   "cell_type": "markdown",
   "metadata": {
    "colab_type": "text",
    "id": "Re6q2zNfUGJw"
   },
   "source": [
    "1. Sign into your [Google](https://accounts.google.com/signin) account to start using the notebook. If you don't want to save your work, you can skip the steps below.\n",
    "2. If you do want to save your work, click the **COPY TO DRIVE** button on the toolbar. This will open a new notebook in a new tab.\n",
    "\n",
    "<div align=\"left\">\n",
    "&emsp;&emsp;<img src=\"https://raw.githubusercontent.com/madewithml/images/master/basics/01_Notebooks/copy_to_drive.png\" width=\"320\">\n",
    "</div>\n",
    "\n",
    "3. Rename this new notebook by removing the words `Copy of` from the title (change \"`Copy of 01_Notebooks`\" to \"`01_Notebooks`\").\n",
    "\n",
    "<div align=\"left\">\n",
    "&emsp;&emsp;<img src=\"https://raw.githubusercontent.com/madewithml/images/master/basics/01_Notebooks/rename.gif\" width=\"320\">\n",
    "</div>\n",
    "\n",
    "4. Now you can run the code, make changes and it's all saved to your personal Google Drive.\n"
   ]
  },
  {
   "cell_type": "markdown",
   "metadata": {
    "colab_type": "text",
    "id": "cOEaLCZAu4JQ"
   },
   "source": [
    "# Types of cells"
   ]
  },
  {
   "cell_type": "markdown",
   "metadata": {
    "colab_type": "text",
    "id": "WcOgqq5xvtMn"
   },
   "source": [
    "Notebooks are made up of cells. Each cell can either be a **code cell** or a **text cell**. \n",
    "\n",
    "*   **code cell**: used for writing and executing code.\n",
    "*   **text cell**: used for writing text, HTML, Markdown, etc.\n",
    "\n",
    "\n"
   ]
  },
  {
   "cell_type": "markdown",
   "metadata": {
    "colab_type": "text",
    "id": "tBVFofpLutnn"
   },
   "source": [
    "# Creating cells"
   ]
  },
  {
   "cell_type": "markdown",
   "metadata": {
    "colab_type": "text",
    "id": "CfSTXDx9LClf"
   },
   "source": [
    "First, let's create a text cell. Click on a desired location in the notebook and create the cell by clicking on the **➕TEXT** (located in the top left corner). \n",
    "\n",
    "<div align=\"left\">\n",
    "<img src=\"https://raw.githubusercontent.com/madewithml/images/master/basics/01_Notebooks/add_text.png\" width=\"320\">\n",
    "<div align=\"left\">\n",
    "\n",
    "Once you create the cell, click on it and type the following text inside it:\n",
    "\n",
    "\n",
    "```\n",
    "### This is a header\n",
    "Hello world!\n",
    "```"
   ]
  },
  {
   "cell_type": "markdown",
   "metadata": {
    "colab_type": "text",
    "id": "2O5EqrqbWBlH"
   },
   "source": [
    "### This is a header\n",
    "Hello world!"
   ]
  },
  {
   "cell_type": "markdown",
   "metadata": {
    "colab_type": "text",
    "id": "iXYgZpgpYS3N"
   },
   "source": [
    "# Running cells"
   ]
  },
  {
   "cell_type": "markdown",
   "metadata": {
    "colab_type": "text",
    "id": "8og2NZxaO7Nj"
   },
   "source": [
    "Once you type inside the cell, press the **SHIFT** and **RETURN** (enter key) together to run the cell."
   ]
  },
  {
   "cell_type": "markdown",
   "metadata": {
    "colab_type": "text",
    "id": "WKTbiBuvYexD"
   },
   "source": [
    "# Editing cells"
   ]
  },
  {
   "cell_type": "markdown",
   "metadata": {
    "colab_type": "text",
    "id": "J_kM3zBEO9Zp"
   },
   "source": [
    "To edit a cell, double click on it and make any changes."
   ]
  },
  {
   "cell_type": "markdown",
   "metadata": {
    "colab_type": "text",
    "id": "Jv0ZSuhNYVIU"
   },
   "source": [
    "# Moving cells"
   ]
  },
  {
   "cell_type": "markdown",
   "metadata": {
    "colab_type": "text",
    "id": "pv3XtKpLPAY6"
   },
   "source": [
    "Once you create the cell, you can move it up and down by clicking on the cell and then pressing the ⬆️ and ⬇️ button on the top right of the cell. \n",
    "\n",
    "<div align=\"left\">\n",
    "<img src=\"https://raw.githubusercontent.com/madewithml/images/master/basics/01_Notebooks/move_cells.png\" width=\"500\">\n",
    "</div>"
   ]
  },
  {
   "cell_type": "markdown",
   "metadata": {
    "colab_type": "text",
    "id": "B_VGiYf8YXiU"
   },
   "source": [
    "# Deleting cells"
   ]
  },
  {
   "cell_type": "markdown",
   "metadata": {
    "colab_type": "text",
    "id": "vKrqxJEmTfQU"
   },
   "source": [
    "You can delete the cell by clicking on it and pressing the trash can button 🗑️ on the top right corner of the cell. Alternatively, you can also press ⌘/Ctrl + M + D.\n",
    "\n",
    "<div align=\"left\">\n",
    "<img src=\"https://raw.githubusercontent.com/madewithml/images/master/basics/01_Notebooks/delete_cells.png\" width=\"500\">\n",
    "</div>"
   ]
  },
  {
   "cell_type": "markdown",
   "metadata": {
    "colab_type": "text",
    "id": "hxl7Fk8LVQmR"
   },
   "source": [
    "# Creating a code cell\n"
   ]
  },
  {
   "cell_type": "markdown",
   "metadata": {
    "colab_type": "text",
    "id": "lnvxXte0PB0p"
   },
   "source": [
    "You can repeat the steps above to create and edit a *code* cell. You can create a code cell by clicking on the ➕CODE (located in the top left corner).\n",
    "\n",
    "<div align=\"left\">\n",
    "<img src=\"https://raw.githubusercontent.com/madewithml/images/master/basics/01_Notebooks/add_code.png\" width=\"320\">\n",
    "</div>\n",
    "\n",
    "Once you've created the code cell, double click on it, type the following inside it and then press `Shift + Enter` to execute the code.\n",
    "\n",
    "```\n",
    "print (\"Hello world!\")\n",
    "```"
   ]
  },
  {
   "cell_type": "code",
   "execution_count": 0,
   "metadata": {
    "colab": {
     "base_uri": "https://localhost:8080/",
     "height": 34
    },
    "colab_type": "code",
    "id": "DfGf9KmQ3DJM",
    "outputId": "2ec9fcb8-e2e9-4b65-e27f-f6229d77c3c0"
   },
   "outputs": [
    {
     "name": "stdout",
     "output_type": "stream",
     "text": [
      "Hello world!\n"
     ]
    }
   ],
   "source": [
    "print (\"Hello world!\")"
   ]
  },
  {
   "cell_type": "markdown",
   "metadata": {
    "colab_type": "text",
    "id": "r2w9xzDkuAXw"
   },
   "source": [
    "These are the basic concepts you'll need to use these notebooks but we'll learn few more tricks in subsequent lessons."
   ]
  },
  {
   "cell_type": "markdown",
   "metadata": {
    "colab_type": "text",
    "id": "MeE6daOaK8rb"
   },
   "source": [
    "---\n",
    "Share and discover ML projects at <a href=\"https://madewithml.com/\">Made With ML</a>.\n",
    "\n",
    "<div align=\"left\">\n",
    "<a class=\"ai-header-badge\" target=\"_blank\" href=\"https://github.com/madewithml/basics\"><img src=\"https://img.shields.io/github/stars/madewithml/basics.svg?style=social&label=Star\"></a>&nbsp;\n",
    "<a class=\"ai-header-badge\" target=\"_blank\" href=\"https://www.linkedin.com/company/madewithml\"><img src=\"https://img.shields.io/badge/style--5eba00.svg?label=LinkedIn&logo=linkedin&style=social\"></a>&nbsp;\n",
    "<a class=\"ai-header-badge\" target=\"_blank\" href=\"https://twitter.com/madewithml\"><img src=\"https://img.shields.io/twitter/follow/madewithml.svg?label=Follow&style=social\"></a>\n",
    "</div>"
   ]
  }
 ],
 "metadata": {
  "colab": {
   "collapsed_sections": [],
   "name": "01_Notebooks",
   "provenance": [
    {
     "file_id": "https://github.com/madewithml/basics/blob/master/notebooks/01_Notebooks.ipynb",
     "timestamp": 1582558986814
    }
   ],
   "toc_visible": true
  },
  "kernelspec": {
   "display_name": "Python 3",
   "language": "python",
   "name": "python3"
  },
  "language_info": {
   "codemirror_mode": {
    "name": "ipython",
    "version": 3
   },
   "file_extension": ".py",
   "mimetype": "text/x-python",
   "name": "python",
   "nbconvert_exporter": "python",
   "pygments_lexer": "ipython3",
   "version": "3.6.9"
  }
 },
 "nbformat": 4,
 "nbformat_minor": 1
}
